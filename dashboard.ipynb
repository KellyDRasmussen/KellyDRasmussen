{
  "nbformat": 4,
  "nbformat_minor": 0,
  "metadata": {
    "colab": {
      "provenance": [],
      "toc_visible": true,
      "mount_file_id": "1HGflK4XtgQbOhZk3fziYXA7TXXXibMqA",
      "authorship_tag": "ABX9TyPHkPesSakD6ybvnSxpldas",
      "include_colab_link": true
    },
    "kernelspec": {
      "name": "python3",
      "display_name": "Python 3"
    },
    "language_info": {
      "name": "python"
    }
  },
  "cells": [
    {
      "cell_type": "markdown",
      "metadata": {
        "id": "view-in-github",
        "colab_type": "text"
      },
      "source": [
        "<a href=\"https://colab.research.google.com/github/KellyDRasmussen/KellyDRasmussen/blob/main/dashboard.ipynb\" target=\"_parent\"><img src=\"https://colab.research.google.com/assets/colab-badge.svg\" alt=\"Open In Colab\"/></a>"
      ]
    },
    {
      "cell_type": "markdown",
      "source": [
        "# Initialising"
      ],
      "metadata": {
        "id": "YLs7Ukixxczg"
      }
    },
    {
      "cell_type": "code",
      "source": [
        "#!pip install dash\n",
        "#!pip install jupyter-dash\n",
        "#!pip install pyngrok"
      ],
      "metadata": {
        "id": "AaIluMOZlxTt"
      },
      "execution_count": 4,
      "outputs": []
    },
    {
      "cell_type": "code",
      "execution_count": 33,
      "metadata": {
        "id": "60YU5e9TiURO"
      },
      "outputs": [],
      "source": [
        "from dash import Dash, dcc, html\n",
        "from dash.dependencies import Input, Output\n",
        "import plotly.express as px\n",
        "import pandas as pd\n",
        "from pyngrok import ngrok"
      ]
    },
    {
      "cell_type": "code",
      "source": [
        "from google.colab import drive\n",
        "drive.mount('/content/drive')\n",
        "\n",
        "df=pd.read_csv('/content/drive/MyDrive/Teamcheese/sales_time_series.csv',encoding='utf-8')\n"
      ],
      "metadata": {
        "colab": {
          "base_uri": "https://localhost:8080/"
        },
        "id": "bo1QKBzziakL",
        "outputId": "32cc6c05-c852-4645-cb58-370791d1bd6e"
      },
      "execution_count": 7,
      "outputs": [
        {
          "output_type": "stream",
          "name": "stdout",
          "text": [
            "Drive already mounted at /content/drive; to attempt to forcibly remount, call drive.mount(\"/content/drive\", force_remount=True).\n"
          ]
        }
      ]
    },
    {
      "cell_type": "markdown",
      "source": [
        "# Data clean up"
      ],
      "metadata": {
        "id": "EVkhlAcaxiy0"
      }
    },
    {
      "cell_type": "code",
      "source": [
        "# List of ShopTypes to drop\n",
        "brands_to_drop = ['No National Head Customer P/f Poul', 'No National Head Customer Poul Mich', 'Greenland others', 'Island Others', 'Dagrofa Logistik  Grønland', '#', 'Reitan Greenland', 'No National Head Customer', 'Coop Greenland']\n",
        "\n",
        "# Drop rows with unwanted ShopTypes\n",
        "df_filtered = df[~df['ShopType'].isin(brands_to_drop)]\n",
        "df_filtered['ShopType'].unique()"
      ],
      "metadata": {
        "colab": {
          "base_uri": "https://localhost:8080/"
        },
        "id": "1-RhudY2pVoT",
        "outputId": "64e0f363-a0c4-4790-c3cc-76eac1136877"
      },
      "execution_count": 14,
      "outputs": [
        {
          "output_type": "execute_result",
          "data": {
            "text/plain": [
              "array(['Grossister.', 'Foodservice Danmark', 'Mælkegrossister',\n",
              "       'Dansk Cater', 'Foodservice øvrige', 'Hørkram Schulz Food Service',\n",
              "       'Dagrofa', 'Reitan Distribution A/S', 'Salling Group',\n",
              "       'Aldi Holding ApS (DK)', 'Coop Norden DK', ' Arla Foods',\n",
              "       'Pizzagrossisterne', 'Lidl Denmark', 'DBE others', 'Premium',\n",
              "       'MBB'], dtype=object)"
            ]
          },
          "metadata": {},
          "execution_count": 14
        }
      ]
    },
    {
      "cell_type": "code",
      "source": [
        "#I don't need SoldTo\n",
        "df = df_filtered.drop(columns=['SoldTo'])\n",
        "df.columns"
      ],
      "metadata": {
        "colab": {
          "base_uri": "https://localhost:8080/"
        },
        "id": "RXo8BVCLqYHI",
        "outputId": "1a9b5cb0-22f7-4d0b-b455-840771170297"
      },
      "execution_count": 15,
      "outputs": [
        {
          "output_type": "execute_result",
          "data": {
            "text/plain": [
              "Index(['Brand', 'Product', 'Description', 'ShopType', 'City', 'Latitude',\n",
              "       'Longitude', 'Month', 'Sales_Kg'],\n",
              "      dtype='object')"
            ]
          },
          "metadata": {},
          "execution_count": 15
        }
      ]
    },
    {
      "cell_type": "code",
      "source": [
        "#defining segment categories\n",
        "consumer = ['Dagrofa', 'Reitan Distribution A/S', 'Salling Group', 'Aldi Holding ApS (DK)', 'Coop Norden DK', ' Arla Foods', 'Lidl Denmark']\n",
        "catering = ['Grossister.', 'Foodservice Danmark', 'Mælkegrossister', 'Dansk Cater', 'Foodservice øvrige', 'Hørkram Schulz Food Service', 'Pizzagrossisterne', 'Premium']\n",
        "unknown = ['DBE others', 'MBB']"
      ],
      "metadata": {
        "id": "nx3Jc9h1sYIs"
      },
      "execution_count": 21,
      "outputs": []
    },
    {
      "cell_type": "code",
      "source": [
        "# Create a dictionary mapping old values to new values\n",
        "value_map = {**dict.fromkeys(consumer, 'Consumer'),\n",
        "             **dict.fromkeys(catering, 'Catering'),\n",
        "             **dict.fromkeys(unknown, 'Unknown')}\n",
        "\n",
        "# Replace values in 'ShopType' column\n",
        "df['ShopType'] = df['ShopType'].replace(value_map)"
      ],
      "metadata": {
        "id": "TtxMD-IFtvyT"
      },
      "execution_count": 22,
      "outputs": []
    },
    {
      "cell_type": "code",
      "source": [
        "# Rename 'Month' column to 'Date'\n",
        "df = df.rename(columns={'Month': 'Date'})\n",
        "\n",
        "print(df)\n"
      ],
      "metadata": {
        "colab": {
          "base_uri": "https://localhost:8080/"
        },
        "id": "R6lORJeOuK4B",
        "outputId": "f6f51b88-1e50-43f8-9057-ba429844c831"
      },
      "execution_count": 29,
      "outputs": [
        {
          "output_type": "stream",
          "name": "stdout",
          "text": [
            "          Brand               Product                 Description  ShopType  \\\n",
            "0      Castello  Crm Cheese Decorated  Castello pineapple 1kg INT  Catering   \n",
            "1      Castello  Crm Cheese Decorated  Castello pineapple 1kg INT  Catering   \n",
            "2      Castello  Crm Cheese Decorated  Castello pineapple 1kg INT  Catering   \n",
            "3      Castello  Crm Cheese Decorated  Castello pineapple 1kg INT  Catering   \n",
            "4      Castello  Crm Cheese Decorated  Castello pineapple 1kg INT  Catering   \n",
            "...         ...                   ...                         ...       ...   \n",
            "88399     Unika      YC Whole Hushåll  Unika Koryfé 1x1,1 kg (DK)  Catering   \n",
            "88400     Unika      YC Whole Hushåll  Unika Koryfé 1x1,1 kg (DK)  Catering   \n",
            "88401     Unika      YC Whole Hushåll  Unika Koryfé 1x1,1 kg (DK)  Catering   \n",
            "88402     Unika      YC Whole Hushåll  Unika Koryfé 1x1,1 kg (DK)  Catering   \n",
            "88403     Unika      YC Whole Hushåll  Unika Koryfé 1x1,1 kg (DK)  Catering   \n",
            "\n",
            "             City  Latitude  Longitude        Date  Sales_Kg  \n",
            "0         Horsens  55.86066    9.85034  2023-02-01       4.0  \n",
            "1           Ishøj  55.61543   12.35182  2023-02-01      60.0  \n",
            "2      Middelfart  55.50591    9.73054  2023-02-01      47.0  \n",
            "3        Aabenraa  55.04434    9.41741  2023-02-01       2.0  \n",
            "4         Aalborg  57.04800    9.91870  2023-02-01       NaN  \n",
            "...           ...       ...        ...         ...       ...  \n",
            "88399     Aalborg  57.04800    9.91870  2024-01-01       NaN  \n",
            "88400   Silkeborg  56.10500    9.39306  2024-01-01       NaN  \n",
            "88401      Aarhus  56.16610   10.15140  2024-01-01       NaN  \n",
            "88402   København  55.67110   12.56529  2024-01-01       NaN  \n",
            "88403       Vejle  55.70927    9.53570  2024-01-01       1.0  \n",
            "\n",
            "[84792 rows x 9 columns]\n"
          ]
        }
      ]
    },
    {
      "cell_type": "markdown",
      "source": [
        "# Dashboard"
      ],
      "metadata": {
        "id": "w8FCcthFyKB4"
      }
    },
    {
      "cell_type": "code",
      "source": [
        "selected_brand = 'Unika'\n",
        "df = df[df['Brand'] == selected_brand]"
      ],
      "metadata": {
        "id": "kNjuJGXN1I8w"
      },
      "execution_count": 38,
      "outputs": []
    },
    {
      "cell_type": "code",
      "source": [
        "# Convert Date to datetime\n",
        "df['Date'] = pd.to_datetime(df['Date'])\n",
        "\n",
        "# Initialize the Dash app\n",
        "app = Dash(__name__)\n",
        "\n",
        "# Layout of the app\n",
        "app.layout = html.Div([\n",
        "    dcc.Dropdown(\n",
        "        id='data-slicer',\n",
        "        options=[\n",
        "            {'label': 'Consumer', 'value': 'Consumer'},\n",
        "            {'label': 'Catering', 'value': 'Catering'}\n",
        "        ],\n",
        "        value='Consumer'\n",
        "    ),\n",
        "    dcc.Graph(id='time-series'),\n",
        "    dcc.Graph(id='product-sales'),\n",
        "    dcc.Graph(id='sales-locations')\n",
        "])\n",
        "\n",
        "# Callback to update graphs\n",
        "@app.callback(\n",
        "    [Output('time-series', 'figure'),\n",
        "     Output('product-sales', 'figure'),\n",
        "     Output('sales-locations', 'figure')],\n",
        "    [Input('data-slicer', 'value')]\n",
        ")\n",
        "def update_graphs(selected_segment):\n",
        "    filtered_df = df[df['ShopType'] == selected_segment]\n",
        "\n",
        "    # Debug: Print the filtered DataFrame\n",
        "    print(filtered_df)\n",
        "\n",
        "    # Time series graph\n",
        "    time_series_fig = px.line(filtered_df, x='Date', y='Sales_Kg', title='Sales Over Time')\n",
        "\n",
        "    # Product sales graph\n",
        "    product_sales_fig = px.bar(filtered_df, x='Product', y='Sales_Kg', title='Product Sales')\n",
        "\n",
        "    # Sales locations map\n",
        "    sales_locations_fig = px.scatter_mapbox(\n",
        "        filtered_df, lat='Latitude', lon='Longitude', size='Sales_Kg', color='City',\n",
        "        hover_name='SoldTo', title='Sales Locations',\n",
        "        mapbox_style=\"open-street-map\", zoom=3\n",
        "    )\n",
        "\n",
        "    return time_series_fig, product_sales_fig, sales_locations_fig\n",
        "\n",
        "!ngrok authtoken 2gQdmNbVEf6opKAuJA7s2EufayA_7Pmt1GKP1QmJLv7XKr7N3\n",
        "\n",
        "# Run the app with ngrok\n",
        "public_url = ngrok.connect(8050)\n",
        "print(f'Public URL: {public_url}')\n",
        "\n",
        "app.run_server(port=8050)"
      ],
      "metadata": {
        "colab": {
          "base_uri": "https://localhost:8080/",
          "height": 584
        },
        "id": "-1RWKtYsmOH2",
        "outputId": "80b1b31c-0986-4f4c-be2c-fdce15317adc"
      },
      "execution_count": 40,
      "outputs": [
        {
          "output_type": "stream",
          "name": "stdout",
          "text": [
            "Authtoken saved to configuration file: /root/.config/ngrok/ngrok.yml\n"
          ]
        },
        {
          "output_type": "stream",
          "name": "stderr",
          "text": [
            "WARNING:pyngrok.process.ngrok:t=2024-05-13T21:22:11+0000 lvl=warn msg=\"failed to start tunnel\" pg=/api/tunnels id=0474d4e500852a10 err=\"failed to start tunnel: Your account may not run more than 3 tunnels over a single ngrok agent session.\\nThe tunnels already running on this session are:\\ntn_2gQfHPTyEFDfEzuC1dKI1Nhdb3Q, tn_2gQfpVivjOCoNVeBcnePYCZGnO0, tn_2gQg9F4XRE9504fmzhPqMPN2Umi\\n\\r\\n\\r\\nERR_NGROK_324\\r\\n\"\n"
          ]
        },
        {
          "output_type": "error",
          "ename": "PyngrokNgrokHTTPError",
          "evalue": "ngrok client exception, API returned 502: {\"error_code\":103,\"status_code\":502,\"msg\":\"failed to start tunnel\",\"details\":{\"err\":\"failed to start tunnel: Your account may not run more than 3 tunnels over a single ngrok agent session.\\nThe tunnels already running on this session are:\\ntn_2gQfHPTyEFDfEzuC1dKI1Nhdb3Q, tn_2gQfpVivjOCoNVeBcnePYCZGnO0, tn_2gQg9F4XRE9504fmzhPqMPN2Umi\\n\\r\\n\\r\\nERR_NGROK_324\\r\\n\"}}\n",
          "traceback": [
            "\u001b[0;31m---------------------------------------------------------------------------\u001b[0m",
            "\u001b[0;31mHTTPError\u001b[0m                                 Traceback (most recent call last)",
            "\u001b[0;32m/usr/local/lib/python3.10/dist-packages/pyngrok/ngrok.py\u001b[0m in \u001b[0;36mapi_request\u001b[0;34m(url, method, data, params, timeout, auth)\u001b[0m\n\u001b[1;32m    517\u001b[0m     \u001b[0;32mtry\u001b[0m\u001b[0;34m:\u001b[0m\u001b[0;34m\u001b[0m\u001b[0;34m\u001b[0m\u001b[0m\n\u001b[0;32m--> 518\u001b[0;31m         \u001b[0mresponse\u001b[0m \u001b[0;34m=\u001b[0m \u001b[0murlopen\u001b[0m\u001b[0;34m(\u001b[0m\u001b[0mrequest\u001b[0m\u001b[0;34m,\u001b[0m \u001b[0mencoded_data\u001b[0m\u001b[0;34m,\u001b[0m \u001b[0mtimeout\u001b[0m\u001b[0;34m)\u001b[0m\u001b[0;34m\u001b[0m\u001b[0;34m\u001b[0m\u001b[0m\n\u001b[0m\u001b[1;32m    519\u001b[0m         \u001b[0mresponse_data\u001b[0m \u001b[0;34m=\u001b[0m \u001b[0mresponse\u001b[0m\u001b[0;34m.\u001b[0m\u001b[0mread\u001b[0m\u001b[0;34m(\u001b[0m\u001b[0;34m)\u001b[0m\u001b[0;34m.\u001b[0m\u001b[0mdecode\u001b[0m\u001b[0;34m(\u001b[0m\u001b[0;34m\"utf-8\"\u001b[0m\u001b[0;34m)\u001b[0m\u001b[0;34m\u001b[0m\u001b[0;34m\u001b[0m\u001b[0m\n",
            "\u001b[0;32m/usr/lib/python3.10/urllib/request.py\u001b[0m in \u001b[0;36murlopen\u001b[0;34m(url, data, timeout, cafile, capath, cadefault, context)\u001b[0m\n\u001b[1;32m    215\u001b[0m         \u001b[0mopener\u001b[0m \u001b[0;34m=\u001b[0m \u001b[0m_opener\u001b[0m\u001b[0;34m\u001b[0m\u001b[0;34m\u001b[0m\u001b[0m\n\u001b[0;32m--> 216\u001b[0;31m     \u001b[0;32mreturn\u001b[0m \u001b[0mopener\u001b[0m\u001b[0;34m.\u001b[0m\u001b[0mopen\u001b[0m\u001b[0;34m(\u001b[0m\u001b[0murl\u001b[0m\u001b[0;34m,\u001b[0m \u001b[0mdata\u001b[0m\u001b[0;34m,\u001b[0m \u001b[0mtimeout\u001b[0m\u001b[0;34m)\u001b[0m\u001b[0;34m\u001b[0m\u001b[0;34m\u001b[0m\u001b[0m\n\u001b[0m\u001b[1;32m    217\u001b[0m \u001b[0;34m\u001b[0m\u001b[0m\n",
            "\u001b[0;32m/usr/lib/python3.10/urllib/request.py\u001b[0m in \u001b[0;36mopen\u001b[0;34m(self, fullurl, data, timeout)\u001b[0m\n\u001b[1;32m    524\u001b[0m             \u001b[0mmeth\u001b[0m \u001b[0;34m=\u001b[0m \u001b[0mgetattr\u001b[0m\u001b[0;34m(\u001b[0m\u001b[0mprocessor\u001b[0m\u001b[0;34m,\u001b[0m \u001b[0mmeth_name\u001b[0m\u001b[0;34m)\u001b[0m\u001b[0;34m\u001b[0m\u001b[0;34m\u001b[0m\u001b[0m\n\u001b[0;32m--> 525\u001b[0;31m             \u001b[0mresponse\u001b[0m \u001b[0;34m=\u001b[0m \u001b[0mmeth\u001b[0m\u001b[0;34m(\u001b[0m\u001b[0mreq\u001b[0m\u001b[0;34m,\u001b[0m \u001b[0mresponse\u001b[0m\u001b[0;34m)\u001b[0m\u001b[0;34m\u001b[0m\u001b[0;34m\u001b[0m\u001b[0m\n\u001b[0m\u001b[1;32m    526\u001b[0m \u001b[0;34m\u001b[0m\u001b[0m\n",
            "\u001b[0;32m/usr/lib/python3.10/urllib/request.py\u001b[0m in \u001b[0;36mhttp_response\u001b[0;34m(self, request, response)\u001b[0m\n\u001b[1;32m    633\u001b[0m         \u001b[0;32mif\u001b[0m \u001b[0;32mnot\u001b[0m \u001b[0;34m(\u001b[0m\u001b[0;36m200\u001b[0m \u001b[0;34m<=\u001b[0m \u001b[0mcode\u001b[0m \u001b[0;34m<\u001b[0m \u001b[0;36m300\u001b[0m\u001b[0;34m)\u001b[0m\u001b[0;34m:\u001b[0m\u001b[0;34m\u001b[0m\u001b[0;34m\u001b[0m\u001b[0m\n\u001b[0;32m--> 634\u001b[0;31m             response = self.parent.error(\n\u001b[0m\u001b[1;32m    635\u001b[0m                 'http', request, response, code, msg, hdrs)\n",
            "\u001b[0;32m/usr/lib/python3.10/urllib/request.py\u001b[0m in \u001b[0;36merror\u001b[0;34m(self, proto, *args)\u001b[0m\n\u001b[1;32m    562\u001b[0m             \u001b[0margs\u001b[0m \u001b[0;34m=\u001b[0m \u001b[0;34m(\u001b[0m\u001b[0mdict\u001b[0m\u001b[0;34m,\u001b[0m \u001b[0;34m'default'\u001b[0m\u001b[0;34m,\u001b[0m \u001b[0;34m'http_error_default'\u001b[0m\u001b[0;34m)\u001b[0m \u001b[0;34m+\u001b[0m \u001b[0morig_args\u001b[0m\u001b[0;34m\u001b[0m\u001b[0;34m\u001b[0m\u001b[0m\n\u001b[0;32m--> 563\u001b[0;31m             \u001b[0;32mreturn\u001b[0m \u001b[0mself\u001b[0m\u001b[0;34m.\u001b[0m\u001b[0m_call_chain\u001b[0m\u001b[0;34m(\u001b[0m\u001b[0;34m*\u001b[0m\u001b[0margs\u001b[0m\u001b[0;34m)\u001b[0m\u001b[0;34m\u001b[0m\u001b[0;34m\u001b[0m\u001b[0m\n\u001b[0m\u001b[1;32m    564\u001b[0m \u001b[0;34m\u001b[0m\u001b[0m\n",
            "\u001b[0;32m/usr/lib/python3.10/urllib/request.py\u001b[0m in \u001b[0;36m_call_chain\u001b[0;34m(self, chain, kind, meth_name, *args)\u001b[0m\n\u001b[1;32m    495\u001b[0m             \u001b[0mfunc\u001b[0m \u001b[0;34m=\u001b[0m \u001b[0mgetattr\u001b[0m\u001b[0;34m(\u001b[0m\u001b[0mhandler\u001b[0m\u001b[0;34m,\u001b[0m \u001b[0mmeth_name\u001b[0m\u001b[0;34m)\u001b[0m\u001b[0;34m\u001b[0m\u001b[0;34m\u001b[0m\u001b[0m\n\u001b[0;32m--> 496\u001b[0;31m             \u001b[0mresult\u001b[0m \u001b[0;34m=\u001b[0m \u001b[0mfunc\u001b[0m\u001b[0;34m(\u001b[0m\u001b[0;34m*\u001b[0m\u001b[0margs\u001b[0m\u001b[0;34m)\u001b[0m\u001b[0;34m\u001b[0m\u001b[0;34m\u001b[0m\u001b[0m\n\u001b[0m\u001b[1;32m    497\u001b[0m             \u001b[0;32mif\u001b[0m \u001b[0mresult\u001b[0m \u001b[0;32mis\u001b[0m \u001b[0;32mnot\u001b[0m \u001b[0;32mNone\u001b[0m\u001b[0;34m:\u001b[0m\u001b[0;34m\u001b[0m\u001b[0;34m\u001b[0m\u001b[0m\n",
            "\u001b[0;32m/usr/lib/python3.10/urllib/request.py\u001b[0m in \u001b[0;36mhttp_error_default\u001b[0;34m(self, req, fp, code, msg, hdrs)\u001b[0m\n\u001b[1;32m    642\u001b[0m     \u001b[0;32mdef\u001b[0m \u001b[0mhttp_error_default\u001b[0m\u001b[0;34m(\u001b[0m\u001b[0mself\u001b[0m\u001b[0;34m,\u001b[0m \u001b[0mreq\u001b[0m\u001b[0;34m,\u001b[0m \u001b[0mfp\u001b[0m\u001b[0;34m,\u001b[0m \u001b[0mcode\u001b[0m\u001b[0;34m,\u001b[0m \u001b[0mmsg\u001b[0m\u001b[0;34m,\u001b[0m \u001b[0mhdrs\u001b[0m\u001b[0;34m)\u001b[0m\u001b[0;34m:\u001b[0m\u001b[0;34m\u001b[0m\u001b[0;34m\u001b[0m\u001b[0m\n\u001b[0;32m--> 643\u001b[0;31m         \u001b[0;32mraise\u001b[0m \u001b[0mHTTPError\u001b[0m\u001b[0;34m(\u001b[0m\u001b[0mreq\u001b[0m\u001b[0;34m.\u001b[0m\u001b[0mfull_url\u001b[0m\u001b[0;34m,\u001b[0m \u001b[0mcode\u001b[0m\u001b[0;34m,\u001b[0m \u001b[0mmsg\u001b[0m\u001b[0;34m,\u001b[0m \u001b[0mhdrs\u001b[0m\u001b[0;34m,\u001b[0m \u001b[0mfp\u001b[0m\u001b[0;34m)\u001b[0m\u001b[0;34m\u001b[0m\u001b[0;34m\u001b[0m\u001b[0m\n\u001b[0m\u001b[1;32m    644\u001b[0m \u001b[0;34m\u001b[0m\u001b[0m\n",
            "\u001b[0;31mHTTPError\u001b[0m: HTTP Error 502: Bad Gateway",
            "\nDuring handling of the above exception, another exception occurred:\n",
            "\u001b[0;31mPyngrokNgrokHTTPError\u001b[0m                     Traceback (most recent call last)",
            "\u001b[0;32m<ipython-input-40-94ac6d170dbd>\u001b[0m in \u001b[0;36m<cell line: 53>\u001b[0;34m()\u001b[0m\n\u001b[1;32m     51\u001b[0m \u001b[0;34m\u001b[0m\u001b[0m\n\u001b[1;32m     52\u001b[0m \u001b[0;31m# Run the app with ngrok\u001b[0m\u001b[0;34m\u001b[0m\u001b[0;34m\u001b[0m\u001b[0m\n\u001b[0;32m---> 53\u001b[0;31m \u001b[0mpublic_url\u001b[0m \u001b[0;34m=\u001b[0m \u001b[0mngrok\u001b[0m\u001b[0;34m.\u001b[0m\u001b[0mconnect\u001b[0m\u001b[0;34m(\u001b[0m\u001b[0;36m8050\u001b[0m\u001b[0;34m)\u001b[0m\u001b[0;34m\u001b[0m\u001b[0;34m\u001b[0m\u001b[0m\n\u001b[0m\u001b[1;32m     54\u001b[0m \u001b[0mprint\u001b[0m\u001b[0;34m(\u001b[0m\u001b[0;34mf'Public URL: {public_url}'\u001b[0m\u001b[0;34m)\u001b[0m\u001b[0;34m\u001b[0m\u001b[0;34m\u001b[0m\u001b[0m\n\u001b[1;32m     55\u001b[0m \u001b[0;34m\u001b[0m\u001b[0m\n",
            "\u001b[0;32m/usr/local/lib/python3.10/dist-packages/pyngrok/ngrok.py\u001b[0m in \u001b[0;36mconnect\u001b[0;34m(addr, proto, name, pyngrok_config, **options)\u001b[0m\n\u001b[1;32m    318\u001b[0m     \u001b[0mlogger\u001b[0m\u001b[0;34m.\u001b[0m\u001b[0mdebug\u001b[0m\u001b[0;34m(\u001b[0m\u001b[0;34mf\"Creating tunnel with options: {options}\"\u001b[0m\u001b[0;34m)\u001b[0m\u001b[0;34m\u001b[0m\u001b[0;34m\u001b[0m\u001b[0m\n\u001b[1;32m    319\u001b[0m \u001b[0;34m\u001b[0m\u001b[0m\n\u001b[0;32m--> 320\u001b[0;31m     tunnel = NgrokTunnel(api_request(f\"{api_url}/api/tunnels\", method=\"POST\", data=options,\n\u001b[0m\u001b[1;32m    321\u001b[0m                                      timeout=pyngrok_config.request_timeout),\n\u001b[1;32m    322\u001b[0m                          pyngrok_config, api_url)\n",
            "\u001b[0;32m/usr/local/lib/python3.10/dist-packages/pyngrok/ngrok.py\u001b[0m in \u001b[0;36mapi_request\u001b[0;34m(url, method, data, params, timeout, auth)\u001b[0m\n\u001b[1;32m    537\u001b[0m         \u001b[0mlogger\u001b[0m\u001b[0;34m.\u001b[0m\u001b[0mdebug\u001b[0m\u001b[0;34m(\u001b[0m\u001b[0;34mf\"Response {status_code}: {response_data.strip()}\"\u001b[0m\u001b[0;34m)\u001b[0m\u001b[0;34m\u001b[0m\u001b[0;34m\u001b[0m\u001b[0m\n\u001b[1;32m    538\u001b[0m \u001b[0;34m\u001b[0m\u001b[0m\n\u001b[0;32m--> 539\u001b[0;31m         raise PyngrokNgrokHTTPError(f\"ngrok client exception, API returned {status_code}: {response_data}\",\n\u001b[0m\u001b[1;32m    540\u001b[0m                                     \u001b[0me\u001b[0m\u001b[0;34m.\u001b[0m\u001b[0murl\u001b[0m\u001b[0;34m,\u001b[0m\u001b[0;34m\u001b[0m\u001b[0;34m\u001b[0m\u001b[0m\n\u001b[1;32m    541\u001b[0m                                     status_code, e.reason, e.headers, response_data)\n",
            "\u001b[0;31mPyngrokNgrokHTTPError\u001b[0m: ngrok client exception, API returned 502: {\"error_code\":103,\"status_code\":502,\"msg\":\"failed to start tunnel\",\"details\":{\"err\":\"failed to start tunnel: Your account may not run more than 3 tunnels over a single ngrok agent session.\\nThe tunnels already running on this session are:\\ntn_2gQfHPTyEFDfEzuC1dKI1Nhdb3Q, tn_2gQfpVivjOCoNVeBcnePYCZGnO0, tn_2gQg9F4XRE9504fmzhPqMPN2Umi\\n\\r\\n\\r\\nERR_NGROK_324\\r\\n\"}}\n"
          ]
        }
      ]
    }
  ]
}